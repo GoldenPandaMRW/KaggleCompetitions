{
 "cells": [
  {
   "cell_type": "code",
   "execution_count": 1,
   "id": "a7883d55",
   "metadata": {
    "_cell_guid": "b1076dfc-b9ad-4769-8c92-a6c4dae69d19",
    "_uuid": "8f2839f25d086af736a60e9eeb907d3b93b6e0e5",
    "execution": {
     "iopub.execute_input": "2025-08-12T02:30:57.009142Z",
     "iopub.status.busy": "2025-08-12T02:30:57.008767Z",
     "iopub.status.idle": "2025-08-12T02:30:58.966709Z",
     "shell.execute_reply": "2025-08-12T02:30:58.965478Z"
    },
    "papermill": {
     "duration": 1.964563,
     "end_time": "2025-08-12T02:30:58.968347",
     "exception": false,
     "start_time": "2025-08-12T02:30:57.003784",
     "status": "completed"
    },
    "tags": []
   },
   "outputs": [
    {
     "name": "stdout",
     "output_type": "stream",
     "text": [
      "/kaggle/input/digit-recognizer/sample_submission.csv\n",
      "/kaggle/input/digit-recognizer/train.csv\n",
      "/kaggle/input/digit-recognizer/test.csv\n"
     ]
    }
   ],
   "source": [
    "# This Python 3 environment comes with many helpful analytics libraries installed\n",
    "# It is defined by the kaggle/python Docker image: https://github.com/kaggle/docker-python\n",
    "# For example, here's several helpful packages to load\n",
    "\n",
    "import numpy as np # linear algebra\n",
    "import pandas as pd # data processing, CSV file I/O (e.g. pd.read_csv)\n",
    "\n",
    "# Input data files are available in the read-only \"../input/\" directory\n",
    "# For example, running this (by clicking run or pressing Shift+Enter) will list all files under the input directory\n",
    "\n",
    "import os\n",
    "for dirname, _, filenames in os.walk('/kaggle/input'):\n",
    "    for filename in filenames:\n",
    "        print(os.path.join(dirname, filename))\n",
    "\n",
    "# You can write up to 20GB to the current directory (/kaggle/working/) that gets preserved as output when you create a version using \"Save & Run All\" \n",
    "# You can also write temporary files to /kaggle/temp/, but they won't be saved outside of the current session"
   ]
  },
  {
   "cell_type": "code",
   "execution_count": 2,
   "id": "a32d5f20",
   "metadata": {
    "execution": {
     "iopub.execute_input": "2025-08-12T02:30:58.975767Z",
     "iopub.status.busy": "2025-08-12T02:30:58.975320Z",
     "iopub.status.idle": "2025-08-12T02:31:10.826743Z",
     "shell.execute_reply": "2025-08-12T02:31:10.825662Z"
    },
    "papermill": {
     "duration": 11.856776,
     "end_time": "2025-08-12T02:31:10.828448",
     "exception": false,
     "start_time": "2025-08-12T02:30:58.971672",
     "status": "completed"
    },
    "tags": []
   },
   "outputs": [],
   "source": [
    "import torch # framework\n",
    "import torch.nn as nn # neural net framework\n",
    "import torchvision # dataset\n",
    "from torch.utils.data import Dataset, DataLoader\n",
    "import matplotlib.pyplot as plt # data visualization\n",
    "from torchvision import transforms"
   ]
  },
  {
   "cell_type": "code",
   "execution_count": 3,
   "id": "b8c32b2f",
   "metadata": {
    "execution": {
     "iopub.execute_input": "2025-08-12T02:31:10.835947Z",
     "iopub.status.busy": "2025-08-12T02:31:10.835422Z",
     "iopub.status.idle": "2025-08-12T02:31:10.844438Z",
     "shell.execute_reply": "2025-08-12T02:31:10.843599Z"
    },
    "papermill": {
     "duration": 0.014551,
     "end_time": "2025-08-12T02:31:10.846229",
     "exception": false,
     "start_time": "2025-08-12T02:31:10.831678",
     "status": "completed"
    },
    "tags": []
   },
   "outputs": [],
   "source": [
    "# device config\n",
    "device = torch.device('cuda' if torch.cuda.is_available() else 'cpu')\n",
    "\n",
    "# hyperparamters = config of the model\n",
    "input_size = 784 # images are 28x28\n",
    "hidden_size = 100\n",
    "num_classes = 10 # 0-9 digits\n",
    "num_epochs = 50\n",
    "batch_size = 100\n",
    "learning_rate = 0.001"
   ]
  },
  {
   "cell_type": "code",
   "execution_count": 4,
   "id": "02a1dcf6",
   "metadata": {
    "execution": {
     "iopub.execute_input": "2025-08-12T02:31:10.854045Z",
     "iopub.status.busy": "2025-08-12T02:31:10.852917Z",
     "iopub.status.idle": "2025-08-12T02:31:10.861691Z",
     "shell.execute_reply": "2025-08-12T02:31:10.860730Z"
    },
    "papermill": {
     "duration": 0.014401,
     "end_time": "2025-08-12T02:31:10.863436",
     "exception": false,
     "start_time": "2025-08-12T02:31:10.849035",
     "status": "completed"
    },
    "tags": []
   },
   "outputs": [],
   "source": [
    "class DigitRecogDataset(Dataset):\n",
    "    def __init__(self,csv_file,has_labels=True,transform=None):\n",
    "        self.data = pd.read_csv(csv_file)\n",
    "        self.has_labels = has_labels\n",
    "        self.transform = transform\n",
    "\n",
    "        if self.has_labels:\n",
    "            # The first column of train.csv has labels for data\n",
    "            self.labels = self.data.iloc[:,0].values\n",
    "            self.images = self.data.iloc[:,1:].values\n",
    "        else:\n",
    "            # The test.csv does not contain a label\n",
    "            self.images = self.data.values\n",
    "\n",
    "    def __len__(self):\n",
    "        return len(self.images)\n",
    "\n",
    "    def __getitem__(self,index):\n",
    "        image = self.images[index].reshape(28,28).astype('float32')/255.0\n",
    "        image = torch.tensor(image).unsqueeze(0) # (1,28,28)\n",
    "\n",
    "        if self.transform:\n",
    "            image = self.transform(image)\n",
    "\n",
    "        if self.has_labels:\n",
    "            label = torch.tensor(self.labels[index],dtype=torch.long)\n",
    "            return image, label\n",
    "        else:\n",
    "            return image\n",
    "\n",
    "import torchvision.transforms as transforms\n",
    "\n",
    "transform = transforms.Compose([\n",
    "    transforms.Normalize((0.5,), (0.5,))  # normalize pixel values\n",
    "])"
   ]
  },
  {
   "cell_type": "code",
   "execution_count": 5,
   "id": "63e878e7",
   "metadata": {
    "execution": {
     "iopub.execute_input": "2025-08-12T02:31:10.870032Z",
     "iopub.status.busy": "2025-08-12T02:31:10.869714Z",
     "iopub.status.idle": "2025-08-12T02:31:16.402930Z",
     "shell.execute_reply": "2025-08-12T02:31:16.401945Z"
    },
    "papermill": {
     "duration": 5.538738,
     "end_time": "2025-08-12T02:31:16.404923",
     "exception": false,
     "start_time": "2025-08-12T02:31:10.866185",
     "status": "completed"
    },
    "tags": []
   },
   "outputs": [],
   "source": [
    "# Dataset\n",
    "from torch.utils.data import random_split, DataLoader\n",
    "\n",
    "test_ds = DigitRecogDataset(\n",
    "    csv_file=\"/kaggle/input/digit-recognizer/test.csv\",\n",
    "    has_labels=False,\n",
    "    transform=transform\n",
    ")\n",
    "train_ds = DigitRecogDataset(\n",
    "    csv_file=\"/kaggle/input/digit-recognizer/train.csv\",\n",
    "    has_labels=True,\n",
    "    transform=transform\n",
    ")\n",
    "\n",
    "#split train_ds into a sperate validation set (val_ds)\n",
    "#currently set to [10%] to give more data for training\n",
    "val_frac = 0.1\n",
    "n_val = int(len(train_ds) * val_frac)\n",
    "n_train = len(train_ds) - n_val\n",
    "train_ds, val_ds = random_split(train_ds, [n_train, n_val])\n",
    "\n",
    "train_loader = DataLoader(train_ds, batch_size=batch_size, shuffle=True)\n",
    "val_loader = DataLoader(val_ds,   batch_size=batch_size, shuffle=False)\n",
    "test_loader = DataLoader(test_ds,batch_size=batch_size,shuffle=False)"
   ]
  },
  {
   "cell_type": "code",
   "execution_count": 6,
   "id": "3b10a7d5",
   "metadata": {
    "execution": {
     "iopub.execute_input": "2025-08-12T02:31:16.414951Z",
     "iopub.status.busy": "2025-08-12T02:31:16.414577Z",
     "iopub.status.idle": "2025-08-12T02:31:17.097949Z",
     "shell.execute_reply": "2025-08-12T02:31:17.096989Z"
    },
    "papermill": {
     "duration": 0.69043,
     "end_time": "2025-08-12T02:31:17.099659",
     "exception": false,
     "start_time": "2025-08-12T02:31:16.409229",
     "status": "completed"
    },
    "tags": []
   },
   "outputs": [
    {
     "name": "stdout",
     "output_type": "stream",
     "text": [
      "torch.Size([100, 1, 28, 28]) torch.Size([100])\n"
     ]
    },
    {
     "data": {
      "image/png": "[encoded data removed]",
      "text/plain": [
       "<Figure size 640x480 with 6 Axes>"
      ]
     },
     "metadata": {},
     "output_type": "display_data"
    }
   ],
   "source": [
    "# visualize\n",
    "examples = iter(train_loader)\n",
    "samples, labels = next(examples) # torch objects have the samples and labels atributes\n",
    "print(samples.shape, labels.shape)\n",
    "\n",
    "# torch.Size([100, 1, 28, 28]) torch.Size([100])\n",
    "# 100 samples, 1 channel of color, 28 width, 28 length\n",
    "# Each class label has one value\n",
    "\n",
    "for i in range(6):\n",
    "  plt.subplot(2,3,i+1)\n",
    "  plt.imshow(samples[i][0], cmap='gray')\n",
    "plt.show()"
   ]
  },
  {
   "cell_type": "code",
   "execution_count": 7,
   "id": "32f5c9ac",
   "metadata": {
    "execution": {
     "iopub.execute_input": "2025-08-12T02:31:17.107742Z",
     "iopub.status.busy": "2025-08-12T02:31:17.107376Z",
     "iopub.status.idle": "2025-08-12T02:31:17.119686Z",
     "shell.execute_reply": "2025-08-12T02:31:17.118789Z"
    },
    "papermill": {
     "duration": 0.018345,
     "end_time": "2025-08-12T02:31:17.121276",
     "exception": false,
     "start_time": "2025-08-12T02:31:17.102931",
     "status": "completed"
    },
    "tags": []
   },
   "outputs": [
    {
     "data": {
      "text/plain": [
       "NeuralNet(\n",
       "  (l1): Linear(in_features=784, out_features=100, bias=True)\n",
       "  (relu): ReLU()\n",
       "  (l2): Linear(in_features=100, out_features=10, bias=True)\n",
       ")"
      ]
     },
     "execution_count": 7,
     "metadata": {},
     "output_type": "execute_result"
    }
   ],
   "source": [
    "class NeuralNet(nn.Module):\n",
    "  def __init__(self, input_size, hidden_size, num_classes):\n",
    "    super(NeuralNet, self).__init__()\n",
    "    self.l1 = nn.Linear(input_size, hidden_size)\n",
    "    self.relu = nn.ReLU()\n",
    "    self.l2 = nn.Linear(hidden_size, num_classes)\n",
    "\n",
    "  def forward(self,x):\n",
    "    out = self.l1(x)\n",
    "    out = self.relu(out)\n",
    "    out = self.l2(out)\n",
    "    return out\n",
    "\n",
    "model = NeuralNet(input_size, hidden_size, num_classes)\n",
    "\n",
    "# Loss and Optimizer\n",
    "criterion = nn.CrossEntropyLoss() # applies softmax automatically\n",
    "optimizer = torch.optim.Adam(model.parameters(), lr = learning_rate) # optim paramters at learning rate\n",
    "model.to(device) # move model to device"
   ]
  },
  {
   "cell_type": "code",
   "execution_count": 8,
   "id": "b7c02d82",
   "metadata": {
    "execution": {
     "iopub.execute_input": "2025-08-12T02:31:17.129453Z",
     "iopub.status.busy": "2025-08-12T02:31:17.128484Z",
     "iopub.status.idle": "2025-08-12T02:36:31.258732Z",
     "shell.execute_reply": "2025-08-12T02:36:31.257930Z"
    },
    "papermill": {
     "duration": 314.135984,
     "end_time": "2025-08-12T02:36:31.260401",
     "exception": false,
     "start_time": "2025-08-12T02:31:17.124417",
     "status": "completed"
    },
    "tags": []
   },
   "outputs": [
    {
     "name": "stdout",
     "output_type": "stream",
     "text": [
      "epoch 1 / 50, step 100/378, loss = 0.4943\n",
      "epoch 1 / 50, step 200/378, loss = 0.1639\n",
      "epoch 1 / 50, step 300/378, loss = 0.1862\n",
      "epoch 2 / 50, step 100/378, loss = 0.1691\n",
      "epoch 2 / 50, step 200/378, loss = 0.1949\n",
      "epoch 2 / 50, step 300/378, loss = 0.2634\n",
      "epoch 3 / 50, step 100/378, loss = 0.3951\n",
      "epoch 3 / 50, step 200/378, loss = 0.1905\n",
      "epoch 3 / 50, step 300/378, loss = 0.1345\n",
      "epoch 4 / 50, step 100/378, loss = 0.1298\n",
      "epoch 4 / 50, step 200/378, loss = 0.2225\n",
      "epoch 4 / 50, step 300/378, loss = 0.0611\n",
      "epoch 5 / 50, step 100/378, loss = 0.0692\n",
      "epoch 5 / 50, step 200/378, loss = 0.1413\n",
      "epoch 5 / 50, step 300/378, loss = 0.0544\n",
      "epoch 6 / 50, step 100/378, loss = 0.0876\n",
      "epoch 6 / 50, step 200/378, loss = 0.1773\n",
      "epoch 6 / 50, step 300/378, loss = 0.1345\n",
      "epoch 7 / 50, step 100/378, loss = 0.1101\n",
      "epoch 7 / 50, step 200/378, loss = 0.0786\n",
      "epoch 7 / 50, step 300/378, loss = 0.0964\n",
      "epoch 8 / 50, step 100/378, loss = 0.0782\n",
      "epoch 8 / 50, step 200/378, loss = 0.1433\n",
      "epoch 8 / 50, step 300/378, loss = 0.0907\n",
      "epoch 9 / 50, step 100/378, loss = 0.0999\n",
      "epoch 9 / 50, step 200/378, loss = 0.0892\n",
      "epoch 9 / 50, step 300/378, loss = 0.1712\n",
      "epoch 10 / 50, step 100/378, loss = 0.0457\n",
      "epoch 10 / 50, step 200/378, loss = 0.0797\n",
      "epoch 10 / 50, step 300/378, loss = 0.0532\n",
      "epoch 11 / 50, step 100/378, loss = 0.0274\n",
      "epoch 11 / 50, step 200/378, loss = 0.0784\n",
      "epoch 11 / 50, step 300/378, loss = 0.0594\n",
      "epoch 12 / 50, step 100/378, loss = 0.0615\n",
      "epoch 12 / 50, step 200/378, loss = 0.0386\n",
      "epoch 12 / 50, step 300/378, loss = 0.0281\n",
      "epoch 13 / 50, step 100/378, loss = 0.0239\n",
      "epoch 13 / 50, step 200/378, loss = 0.0417\n",
      "epoch 13 / 50, step 300/378, loss = 0.0603\n",
      "epoch 14 / 50, step 100/378, loss = 0.0606\n",
      "epoch 14 / 50, step 200/378, loss = 0.0592\n",
      "epoch 14 / 50, step 300/378, loss = 0.0423\n",
      "epoch 15 / 50, step 100/378, loss = 0.1367\n",
      "epoch 15 / 50, step 200/378, loss = 0.1141\n",
      "epoch 15 / 50, step 300/378, loss = 0.0338\n",
      "epoch 16 / 50, step 100/378, loss = 0.0558\n",
      "epoch 16 / 50, step 200/378, loss = 0.0351\n",
      "epoch 16 / 50, step 300/378, loss = 0.0554\n",
      "epoch 17 / 50, step 100/378, loss = 0.0215\n",
      "epoch 17 / 50, step 200/378, loss = 0.0252\n",
      "epoch 17 / 50, step 300/378, loss = 0.0420\n",
      "epoch 18 / 50, step 100/378, loss = 0.0370\n",
      "epoch 18 / 50, step 200/378, loss = 0.0115\n",
      "epoch 18 / 50, step 300/378, loss = 0.0502\n",
      "epoch 19 / 50, step 100/378, loss = 0.0457\n",
      "epoch 19 / 50, step 200/378, loss = 0.0706\n",
      "epoch 19 / 50, step 300/378, loss = 0.0563\n",
      "epoch 20 / 50, step 100/378, loss = 0.0334\n",
      "epoch 20 / 50, step 200/378, loss = 0.0515\n",
      "epoch 20 / 50, step 300/378, loss = 0.0515\n",
      "epoch 21 / 50, step 100/378, loss = 0.1010\n",
      "epoch 21 / 50, step 200/378, loss = 0.0443\n",
      "epoch 21 / 50, step 300/378, loss = 0.0160\n",
      "epoch 22 / 50, step 100/378, loss = 0.0136\n",
      "epoch 22 / 50, step 200/378, loss = 0.0834\n",
      "epoch 22 / 50, step 300/378, loss = 0.0240\n",
      "epoch 23 / 50, step 100/378, loss = 0.0271\n",
      "epoch 23 / 50, step 200/378, loss = 0.0304\n",
      "epoch 23 / 50, step 300/378, loss = 0.0199\n",
      "epoch 24 / 50, step 100/378, loss = 0.0096\n",
      "epoch 24 / 50, step 200/378, loss = 0.1073\n",
      "epoch 24 / 50, step 300/378, loss = 0.0289\n",
      "epoch 25 / 50, step 100/378, loss = 0.0069\n",
      "epoch 25 / 50, step 200/378, loss = 0.0333\n",
      "epoch 25 / 50, step 300/378, loss = 0.0071\n",
      "epoch 26 / 50, step 100/378, loss = 0.0132\n",
      "epoch 26 / 50, step 200/378, loss = 0.0200\n",
      "epoch 26 / 50, step 300/378, loss = 0.0288\n",
      "epoch 27 / 50, step 100/378, loss = 0.0325\n",
      "epoch 27 / 50, step 200/378, loss = 0.0047\n",
      "epoch 27 / 50, step 300/378, loss = 0.1122\n",
      "epoch 28 / 50, step 100/378, loss = 0.0102\n",
      "epoch 28 / 50, step 200/378, loss = 0.0153\n",
      "epoch 28 / 50, step 300/378, loss = 0.0344\n",
      "epoch 29 / 50, step 100/378, loss = 0.0562\n",
      "epoch 29 / 50, step 200/378, loss = 0.0187\n",
      "epoch 29 / 50, step 300/378, loss = 0.0308\n",
      "epoch 30 / 50, step 100/378, loss = 0.0323\n",
      "epoch 30 / 50, step 200/378, loss = 0.0017\n",
      "epoch 30 / 50, step 300/378, loss = 0.0060\n",
      "epoch 31 / 50, step 100/378, loss = 0.0267\n",
      "epoch 31 / 50, step 200/378, loss = 0.0041\n",
      "epoch 31 / 50, step 300/378, loss = 0.0243\n",
      "epoch 32 / 50, step 100/378, loss = 0.0021\n",
      "epoch 32 / 50, step 200/378, loss = 0.0203\n",
      "epoch 32 / 50, step 300/378, loss = 0.0450\n",
      "epoch 33 / 50, step 100/378, loss = 0.0149\n",
      "epoch 33 / 50, step 200/378, loss = 0.0169\n",
      "epoch 33 / 50, step 300/378, loss = 0.0123\n",
      "epoch 34 / 50, step 100/378, loss = 0.0101\n",
      "epoch 34 / 50, step 200/378, loss = 0.0360\n",
      "epoch 34 / 50, step 300/378, loss = 0.0068\n",
      "epoch 35 / 50, step 100/378, loss = 0.0119\n",
      "epoch 35 / 50, step 200/378, loss = 0.0270\n",
      "epoch 35 / 50, step 300/378, loss = 0.0189\n",
      "epoch 36 / 50, step 100/378, loss = 0.0128\n",
      "epoch 36 / 50, step 200/378, loss = 0.0079\n",
      "epoch 36 / 50, step 300/378, loss = 0.0006\n",
      "epoch 37 / 50, step 100/378, loss = 0.0642\n",
      "epoch 37 / 50, step 200/378, loss = 0.0100\n",
      "epoch 37 / 50, step 300/378, loss = 0.0040\n",
      "epoch 38 / 50, step 100/378, loss = 0.0146\n",
      "epoch 38 / 50, step 200/378, loss = 0.0105\n",
      "epoch 38 / 50, step 300/378, loss = 0.0231\n",
      "epoch 39 / 50, step 100/378, loss = 0.0033\n",
      "epoch 39 / 50, step 200/378, loss = 0.0065\n",
      "epoch 39 / 50, step 300/378, loss = 0.0017\n",
      "epoch 40 / 50, step 100/378, loss = 0.0160\n",
      "epoch 40 / 50, step 200/378, loss = 0.0027\n",
      "epoch 40 / 50, step 300/378, loss = 0.0045\n",
      "epoch 41 / 50, step 100/378, loss = 0.0578\n",
      "epoch 41 / 50, step 200/378, loss = 0.0079\n",
      "epoch 41 / 50, step 300/378, loss = 0.0074\n",
      "epoch 42 / 50, step 100/378, loss = 0.0028\n",
      "epoch 42 / 50, step 200/378, loss = 0.0235\n",
      "epoch 42 / 50, step 300/378, loss = 0.0021\n",
      "epoch 43 / 50, step 100/378, loss = 0.0139\n",
      "epoch 43 / 50, step 200/378, loss = 0.0023\n",
      "epoch 43 / 50, step 300/378, loss = 0.0525\n",
      "epoch 44 / 50, step 100/378, loss = 0.0024\n",
      "epoch 44 / 50, step 200/378, loss = 0.0108\n",
      "epoch 44 / 50, step 300/378, loss = 0.0154\n",
      "epoch 45 / 50, step 100/378, loss = 0.0057\n",
      "epoch 45 / 50, step 200/378, loss = 0.0108\n",
      "epoch 45 / 50, step 300/378, loss = 0.0022\n",
      "epoch 46 / 50, step 100/378, loss = 0.0041\n",
      "epoch 46 / 50, step 200/378, loss = 0.0131\n",
      "epoch 46 / 50, step 300/378, loss = 0.0043\n",
      "epoch 47 / 50, step 100/378, loss = 0.0011\n",
      "epoch 47 / 50, step 200/378, loss = 0.0034\n",
      "epoch 47 / 50, step 300/378, loss = 0.0085\n",
      "epoch 48 / 50, step 100/378, loss = 0.0004\n",
      "epoch 48 / 50, step 200/378, loss = 0.0008\n",
      "epoch 48 / 50, step 300/378, loss = 0.0003\n",
      "epoch 49 / 50, step 100/378, loss = 0.0069\n",
      "epoch 49 / 50, step 200/378, loss = 0.0638\n",
      "epoch 49 / 50, step 300/378, loss = 0.0006\n",
      "epoch 50 / 50, step 100/378, loss = 0.0013\n",
      "epoch 50 / 50, step 200/378, loss = 0.0010\n",
      "epoch 50 / 50, step 300/378, loss = 0.0033\n"
     ]
    }
   ],
   "source": [
    "# Training Loop\n",
    "\n",
    "n_steps = len(train_loader)\n",
    "for epoch in range(num_epochs):\n",
    "  for i, (images, labels) in enumerate(train_loader):\n",
    "    # [100, 1, 28, 28] --> [100, 784]\n",
    "    images = images.reshape(-1, 28*28).to(device) # -1 forces pytoch to automatically find the dimension\n",
    "    labels = labels.to(device)\n",
    "\n",
    "    # forward\n",
    "    outputs = model(images)\n",
    "    loss = criterion(outputs, labels) # predicted, actual\n",
    "\n",
    "    # backward\n",
    "    optimizer.zero_grad() # empty gradients\n",
    "    loss.backward() # backpropagation\n",
    "    optimizer.step()\n",
    "\n",
    "    if (i+1) % 100 == 0:\n",
    "      print(f'epoch {epoch+1} / {num_epochs}, step {i+1}/{n_steps}, loss = {loss.item():.4f}')"
   ]
  },
  {
   "cell_type": "code",
   "execution_count": 9,
   "id": "07d525fb",
   "metadata": {
    "execution": {
     "iopub.execute_input": "2025-08-12T02:36:31.281917Z",
     "iopub.status.busy": "2025-08-12T02:36:31.281539Z",
     "iopub.status.idle": "2025-08-12T02:36:31.899445Z",
     "shell.execute_reply": "2025-08-12T02:36:31.898388Z"
    },
    "papermill": {
     "duration": 0.630609,
     "end_time": "2025-08-12T02:36:31.901194",
     "exception": false,
     "start_time": "2025-08-12T02:36:31.270585",
     "status": "completed"
    },
    "tags": []
   },
   "outputs": [
    {
     "name": "stdout",
     "output_type": "stream",
     "text": [
      "Validation accuracy: 97.36%\n"
     ]
    }
   ],
   "source": [
    "model.eval()\n",
    "correct = 0\n",
    "total = 0\n",
    "with torch.no_grad():\n",
    "    for batch in val_loader:\n",
    "        # handle 2- or 3-tuple batches robustly\n",
    "        if isinstance(batch, (list, tuple)):\n",
    "            images, labels = batch[0], batch[1]\n",
    "        else:\n",
    "            raise RuntimeError(\"Unexpected batch type; expected tuple/list\")\n",
    "\n",
    "        images = images.reshape(-1, 28*28).to(device)\n",
    "        labels = labels.to(device)\n",
    "\n",
    "        outputs = model(images)\n",
    "        preds = outputs.argmax(dim=1)\n",
    "        total += labels.size(0)\n",
    "        correct += (preds == labels).sum().item()\n",
    "\n",
    "print(f\"Validation accuracy: {100 * correct / total:.2f}%\")\n"
   ]
  },
  {
   "cell_type": "code",
   "execution_count": 10,
   "id": "1b15fc6e",
   "metadata": {
    "execution": {
     "iopub.execute_input": "2025-08-12T02:36:31.922771Z",
     "iopub.status.busy": "2025-08-12T02:36:31.922195Z",
     "iopub.status.idle": "2025-08-12T02:36:35.487789Z",
     "shell.execute_reply": "2025-08-12T02:36:35.486852Z"
    },
    "papermill": {
     "duration": 3.578029,
     "end_time": "2025-08-12T02:36:35.489429",
     "exception": false,
     "start_time": "2025-08-12T02:36:31.911400",
     "status": "completed"
    },
    "tags": []
   },
   "outputs": [],
   "source": [
    "# Model Submission\n",
    "\n",
    "model.eval()\n",
    "predictions = []\n",
    "with torch.no_grad():\n",
    "    for images in test_loader:\n",
    "        images = images.reshape(-1,28*28).to(device)\n",
    "        outputs = model(images)\n",
    "        _, predicted = torch.max(outputs, 1)\n",
    "        predictions.extend(predicted.cpu().numpy())\n",
    "\n",
    "submission = pd.DataFrame({\n",
    "    \"ImageID\": range(1, len(predictions)+1),\n",
    "    \"Label\": predictions\n",
    "})\n",
    "\n",
    "submission.to_csv(\"submission.csv\", index=False)"
   ]
  }
 ],
 "metadata": {
  "kaggle": {
   "accelerator": "none",
   "dataSources": [
    {
     "databundleVersionId": 861823,
     "sourceId": 3004,
     "sourceType": "competition"
    }
   ],
   "dockerImageVersionId": 31089,
   "isGpuEnabled": false,
   "isInternetEnabled": false,
   "language": "python",
   "sourceType": "notebook"
  },
  "kernelspec": {
   "display_name": "Python 3",
   "language": "python",
   "name": "python3"
  },
  "language_info": {
   "codemirror_mode": {
    "name": "ipython",
    "version": 3
   },
   "file_extension": ".py",
   "mimetype": "text/x-python",
   "name": "python",
   "nbconvert_exporter": "python",
   "pygments_lexer": "ipython3",
   "version": "3.11.13"
  },
  "papermill": {
   "default_parameters": {},
   "duration": 346.378452,
   "end_time": "2025-08-12T02:36:38.387980",
   "environment_variables": {},
   "exception": null,
   "input_path": "__notebook__.ipynb",
   "output_path": "__notebook__.ipynb",
   "parameters": {},
   "start_time": "2025-08-12T02:30:52.009528",
   "version": "2.6.0"
  }
 },
 "nbformat": 4,
 "nbformat_minor": 5
}
