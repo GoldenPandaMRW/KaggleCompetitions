{
 "cells": [
  {
   "cell_type": "markdown",
   "id": "829a5fa9",
   "metadata": {
    "papermill": {
     "duration": 0.003106,
     "end_time": "2025-08-13T16:52:50.217516",
     "exception": false,
     "start_time": "2025-08-13T16:52:50.214410",
     "status": "completed"
    },
    "tags": []
   },
   "source": [
    "# Model is in progress of a training loop update"
   ]
  },
  {
   "cell_type": "code",
   "execution_count": 1,
   "id": "49213360",
   "metadata": {
    "execution": {
     "iopub.execute_input": "2025-08-13T16:52:50.224294Z",
     "iopub.status.busy": "2025-08-13T16:52:50.223920Z",
     "iopub.status.idle": "2025-08-13T16:53:02.226187Z",
     "shell.execute_reply": "2025-08-13T16:53:02.225204Z"
    },
    "papermill": {
     "duration": 12.007258,
     "end_time": "2025-08-13T16:53:02.227679",
     "exception": false,
     "start_time": "2025-08-13T16:52:50.220421",
     "status": "completed"
    },
    "tags": []
   },
   "outputs": [
    {
     "name": "stdout",
     "output_type": "stream",
     "text": [
      "/kaggle/input/digit-recognizer/sample_submission.csv\n",
      "/kaggle/input/digit-recognizer/train.csv\n",
      "/kaggle/input/digit-recognizer/test.csv\n"
     ]
    }
   ],
   "source": [
    "import numpy as np \n",
    "import pandas as pd \n",
    "import torch # framework\n",
    "import torch.nn as nn # neural net framework\n",
    "import torchvision # dataset\n",
    "from torch.utils.data import Dataset, DataLoader\n",
    "import matplotlib.pyplot as plt # data visualization\n",
    "from torchvision import transforms\n",
    "\n",
    "import os\n",
    "for dirname, _, filenames in os.walk('/kaggle/input'):\n",
    "    for filename in filenames:\n",
    "        print(os.path.join(dirname, filename))"
   ]
  },
  {
   "cell_type": "code",
   "execution_count": 2,
   "id": "6c0b175f",
   "metadata": {
    "execution": {
     "iopub.execute_input": "2025-08-13T16:53:02.234282Z",
     "iopub.status.busy": "2025-08-13T16:53:02.233689Z",
     "iopub.status.idle": "2025-08-13T16:53:02.240455Z",
     "shell.execute_reply": "2025-08-13T16:53:02.239656Z"
    },
    "papermill": {
     "duration": 0.011363,
     "end_time": "2025-08-13T16:53:02.241788",
     "exception": false,
     "start_time": "2025-08-13T16:53:02.230425",
     "status": "completed"
    },
    "tags": []
   },
   "outputs": [],
   "source": [
    "# device config\n",
    "device = torch.device('cuda' if torch.cuda.is_available() else 'cpu')\n",
    "\n",
    "# hyperparamters = config of the model\n",
    "input_size = 784 # images are 28x28\n",
    "hidden_size = 100\n",
    "num_classes = 10 # 0-9 digits\n",
    "batch_size = 100"
   ]
  },
  {
   "cell_type": "code",
   "execution_count": 3,
   "id": "ae3cd529",
   "metadata": {
    "execution": {
     "iopub.execute_input": "2025-08-13T16:53:02.247928Z",
     "iopub.status.busy": "2025-08-13T16:53:02.247648Z",
     "iopub.status.idle": "2025-08-13T16:53:02.254527Z",
     "shell.execute_reply": "2025-08-13T16:53:02.253927Z"
    },
    "papermill": {
     "duration": 0.011314,
     "end_time": "2025-08-13T16:53:02.255747",
     "exception": false,
     "start_time": "2025-08-13T16:53:02.244433",
     "status": "completed"
    },
    "tags": []
   },
   "outputs": [],
   "source": [
    "class DigitRecogDataset(Dataset):\n",
    "    def __init__(self,csv_file,has_labels=True,transform=None):\n",
    "        self.data = pd.read_csv(csv_file)\n",
    "        self.has_labels = has_labels\n",
    "        self.transform = transform\n",
    "\n",
    "        if self.has_labels:\n",
    "            # The first column of train.csv has labels for data\n",
    "            self.labels = self.data.iloc[:,0].values\n",
    "            self.images = self.data.iloc[:,1:].values\n",
    "        else:\n",
    "            # The test.csv does not contain a label\n",
    "            self.images = self.data.values\n",
    "\n",
    "    def __len__(self):\n",
    "        return len(self.images)\n",
    "\n",
    "    def __getitem__(self,index):\n",
    "        image = self.images[index].reshape(28,28).astype('float32')/255.0\n",
    "        image = torch.tensor(image).unsqueeze(0) # (1,28,28)\n",
    "\n",
    "        if self.transform:\n",
    "            image = self.transform(image)\n",
    "\n",
    "        if self.has_labels:\n",
    "            label = torch.tensor(self.labels[index],dtype=torch.long)\n",
    "            return image, label\n",
    "        else:\n",
    "            return image\n",
    "\n",
    "import torchvision.transforms as transforms\n",
    "\n",
    "transform = transforms.Compose([\n",
    "    transforms.Normalize((0.5,), (0.5,))  # normalize pixel values\n",
    "])"
   ]
  },
  {
   "cell_type": "code",
   "execution_count": 4,
   "id": "44176d8c",
   "metadata": {
    "execution": {
     "iopub.execute_input": "2025-08-13T16:53:02.261746Z",
     "iopub.status.busy": "2025-08-13T16:53:02.261458Z",
     "iopub.status.idle": "2025-08-13T16:53:07.703710Z",
     "shell.execute_reply": "2025-08-13T16:53:07.702904Z"
    },
    "papermill": {
     "duration": 5.447478,
     "end_time": "2025-08-13T16:53:07.705801",
     "exception": false,
     "start_time": "2025-08-13T16:53:02.258323",
     "status": "completed"
    },
    "tags": []
   },
   "outputs": [],
   "source": [
    "# Dataset\n",
    "from torch.utils.data import random_split, DataLoader\n",
    "\n",
    "test_ds = DigitRecogDataset(\n",
    "    csv_file=\"/kaggle/input/digit-recognizer/test.csv\",\n",
    "    has_labels=False,\n",
    "    transform=transform\n",
    ")\n",
    "train_ds = DigitRecogDataset(\n",
    "    csv_file=\"/kaggle/input/digit-recognizer/train.csv\",\n",
    "    has_labels=True,\n",
    "    transform=transform\n",
    ")\n",
    "\n",
    "#split train_ds into a sperate validation set (val_ds)\n",
    "#currently set to [10%] to give more data for training\n",
    "val_frac = 0.1\n",
    "n_val = int(len(train_ds) * val_frac)\n",
    "n_train = len(train_ds) - n_val\n",
    "train_ds, val_ds = random_split(train_ds, [n_train, n_val])\n",
    "\n",
    "train_loader = DataLoader(train_ds, batch_size=batch_size, shuffle=True)\n",
    "val_loader = DataLoader(val_ds,   batch_size=batch_size, shuffle=False)\n",
    "test_loader = DataLoader(test_ds,batch_size=batch_size,shuffle=False)"
   ]
  },
  {
   "cell_type": "code",
   "execution_count": 5,
   "id": "6b8507d9",
   "metadata": {
    "execution": {
     "iopub.execute_input": "2025-08-13T16:53:07.712600Z",
     "iopub.status.busy": "2025-08-13T16:53:07.711917Z",
     "iopub.status.idle": "2025-08-13T16:53:08.299497Z",
     "shell.execute_reply": "2025-08-13T16:53:08.298611Z"
    },
    "papermill": {
     "duration": 0.592477,
     "end_time": "2025-08-13T16:53:08.301027",
     "exception": false,
     "start_time": "2025-08-13T16:53:07.708550",
     "status": "completed"
    },
    "tags": []
   },
   "outputs": [
    {
     "name": "stdout",
     "output_type": "stream",
     "text": [
      "torch.Size([100, 1, 28, 28]) torch.Size([100])\n"
     ]
    },
    {
     "data": {
      "image/png": "[encoded data removed]",
      "text/plain": [
       "<Figure size 640x480 with 6 Axes>"
      ]
     },
     "metadata": {},
     "output_type": "display_data"
    }
   ],
   "source": [
    "# visualize\n",
    "examples = iter(train_loader)\n",
    "samples, labels = next(examples) # torch objects have the samples and labels atributes\n",
    "print(samples.shape, labels.shape)\n",
    "\n",
    "# torch.Size([100, 1, 28, 28]) torch.Size([100])\n",
    "# 100 samples, 1 channel of color, 28 width, 28 length\n",
    "# Each class label has one value\n",
    "\n",
    "for i in range(6):\n",
    "  plt.subplot(2,3,i+1)\n",
    "  plt.imshow(samples[i][0], cmap='gray')\n",
    "plt.show()"
   ]
  },
  {
   "cell_type": "code",
   "execution_count": 6,
   "id": "a7897c1c",
   "metadata": {
    "execution": {
     "iopub.execute_input": "2025-08-13T16:53:08.308489Z",
     "iopub.status.busy": "2025-08-13T16:53:08.307718Z",
     "iopub.status.idle": "2025-08-13T16:53:08.315024Z",
     "shell.execute_reply": "2025-08-13T16:53:08.314177Z"
    },
    "papermill": {
     "duration": 0.012438,
     "end_time": "2025-08-13T16:53:08.316429",
     "exception": false,
     "start_time": "2025-08-13T16:53:08.303991",
     "status": "completed"
    },
    "tags": []
   },
   "outputs": [],
   "source": [
    "from torch.optim import AdamW\n",
    "from torch.optim.lr_scheduler import OneCycleLR\n",
    "\n",
    "class NeuralNet(nn.Module):\n",
    "  def __init__(self, input_size, hidden_size, num_classes):\n",
    "    super(NeuralNet, self).__init__()\n",
    "    self.l1 = nn.Linear(input_size, hidden_size)\n",
    "    self.relu = nn.ReLU()\n",
    "    self.l2 = nn.Linear(hidden_size, num_classes)\n",
    "\n",
    "  def forward(self,x):\n",
    "    out = self.l1(x)\n",
    "    out = self.relu(out)\n",
    "    out = self.l2(out)\n",
    "    return out\n",
    "\n",
    "model = NeuralNet(input_size, hidden_size, num_classes)"
   ]
  },
  {
   "cell_type": "code",
   "execution_count": 7,
   "id": "2d7bb30d",
   "metadata": {
    "execution": {
     "iopub.execute_input": "2025-08-13T16:53:08.324054Z",
     "iopub.status.busy": "2025-08-13T16:53:08.323323Z",
     "iopub.status.idle": "2025-08-13T16:58:25.053161Z",
     "shell.execute_reply": "2025-08-13T16:58:25.052301Z"
    },
    "papermill": {
     "duration": 316.73995,
     "end_time": "2025-08-13T16:58:25.059452",
     "exception": false,
     "start_time": "2025-08-13T16:53:08.319502",
     "status": "completed"
    },
    "tags": []
   },
   "outputs": [
    {
     "name": "stdout",
     "output_type": "stream",
     "text": [
      "Epoch 1/50 | loss 1.6447 | val 82.07%\n",
      "Epoch 2/50 | loss 0.9796 | val 88.50%\n",
      "Epoch 3/50 | loss 0.8478 | val 90.67%\n",
      "Epoch 4/50 | loss 0.7930 | val 92.17%\n",
      "Epoch 5/50 | loss 0.7427 | val 93.81%\n",
      "Epoch 6/50 | loss 0.6998 | val 95.10%\n",
      "Epoch 7/50 | loss 0.6670 | val 95.81%\n",
      "Epoch 8/50 | loss 0.6467 | val 95.95%\n",
      "Epoch 9/50 | loss 0.6326 | val 96.62%\n",
      "Epoch 10/50 | loss 0.6202 | val 97.36%\n",
      "Epoch 11/50 | loss 0.6131 | val 97.12%\n",
      "Epoch 12/50 | loss 0.6049 | val 97.07%\n",
      "Epoch 13/50 | loss 0.5982 | val 97.26%\n",
      "Epoch 14/50 | loss 0.5940 | val 97.17%\n",
      "Epoch 15/50 | loss 0.5904 | val 97.40%\n",
      "Epoch 16/50 | loss 0.5860 | val 97.31%\n",
      "Epoch 17/50 | loss 0.5832 | val 97.40%\n",
      "Epoch 18/50 | loss 0.5804 | val 97.52%\n",
      "Epoch 19/50 | loss 0.5766 | val 97.88%\n",
      "Epoch 20/50 | loss 0.5751 | val 97.52%\n",
      "Epoch 21/50 | loss 0.5718 | val 97.69%\n",
      "Epoch 22/50 | loss 0.5704 | val 97.79%\n",
      "Epoch 23/50 | loss 0.5677 | val 97.71%\n",
      "Epoch 24/50 | loss 0.5668 | val 97.98%\n",
      "Epoch 25/50 | loss 0.5646 | val 97.79%\n",
      "Epoch 26/50 | loss 0.5633 | val 97.81%\n",
      "Epoch 27/50 | loss 0.5605 | val 97.76%\n",
      "Epoch 28/50 | loss 0.5594 | val 98.00%\n",
      "Epoch 29/50 | loss 0.5587 | val 97.95%\n",
      "Epoch 30/50 | loss 0.5571 | val 97.95%\n",
      "Epoch 31/50 | loss 0.5556 | val 97.71%\n",
      "Epoch 32/50 | loss 0.5547 | val 97.93%\n",
      "Epoch 33/50 | loss 0.5531 | val 98.07%\n",
      "Epoch 34/50 | loss 0.5519 | val 97.98%\n",
      "Epoch 35/50 | loss 0.5511 | val 98.00%\n",
      "Epoch 36/50 | loss 0.5501 | val 98.00%\n",
      "Epoch 37/50 | loss 0.5490 | val 97.95%\n",
      "Epoch 38/50 | loss 0.5485 | val 97.90%\n",
      "Epoch 39/50 | loss 0.5477 | val 98.02%\n",
      "Epoch 40/50 | loss 0.5470 | val 97.95%\n",
      "Epoch 41/50 | loss 0.5464 | val 98.10%\n",
      "Epoch 42/50 | loss 0.5457 | val 97.88%\n",
      "Epoch 43/50 | loss 0.5452 | val 98.05%\n",
      "Epoch 44/50 | loss 0.5448 | val 97.98%\n",
      "Epoch 45/50 | loss 0.5444 | val 97.98%\n",
      "Epoch 46/50 | loss 0.5441 | val 98.02%\n",
      "Epoch 47/50 | loss 0.5439 | val 97.98%\n",
      "Epoch 48/50 | loss 0.5437 | val 98.00%\n",
      "Epoch 49/50 | loss 0.5435 | val 98.02%\n",
      "Epoch 50/50 | loss 0.5435 | val 98.02%\n"
     ]
    }
   ],
   "source": [
    "# Training Loop\n",
    "from torch.optim import AdamW\n",
    "from torch.optim.lr_scheduler import OneCycleLR\n",
    "\n",
    "learning_rate = 1e-3\n",
    "num_epochs = 50\n",
    "n_steps = len(train_loader)\n",
    "\n",
    "best_acc = 0.0\n",
    "best_state = None\n",
    "\n",
    "# Loss and Optimizer\n",
    "criterion = nn.CrossEntropyLoss(label_smoothing=0.1) # applies softmax automatically\n",
    "optimizer = AdamW(model.parameters(), lr = learning_rate, weight_decay = 1e-4)\n",
    "model.to(device)\n",
    "\n",
    "# Learning Rate Scheduler\n",
    "scheduler = OneCycleLR(\n",
    "    optimizer,\n",
    "    max_lr=learning_rate,\n",
    "    epochs=num_epochs,\n",
    "    steps_per_epoch=n_steps,\n",
    "    pct_start=0.2, # warmup\n",
    "    anneal_strategy='cos'\n",
    ")\n",
    "\n",
    "for epoch in range(num_epochs):\n",
    "    model.train()\n",
    "    running_loss = 0.0\n",
    "    \n",
    "    for images, labels in train_loader:\n",
    "    # [100, 1, 28, 28] --> [100, 784]\n",
    "        images = images.reshape(-1, 28*28).to(device) # -1 forces pytoch to automatically find the dimension\n",
    "        labels = labels.to(device)\n",
    "\n",
    "    # forward\n",
    "        outputs = model(images)\n",
    "        loss = criterion(outputs, labels) # predicted, actual\n",
    "\n",
    "    # backward\n",
    "        optimizer.zero_grad() # empty gradients\n",
    "        loss.backward() # backpropagation\n",
    "\n",
    "    # gradient clip\n",
    "        torch.nn.utils.clip_grad_norm_(model.parameters(),max_norm=1.0)\n",
    "\n",
    "    # step\n",
    "        optimizer.step()\n",
    "        scheduler.step()\n",
    "\n",
    "        running_loss += loss.item()*labels.size(0)\n",
    "\n",
    "    model.eval()\n",
    "    correct = total = 0\n",
    "    with torch.no_grad():\n",
    "        for images, labels in val_loader:\n",
    "            images = images.reshape(-1, 28*28).to(device)\n",
    "            labels = labels.to(device)\n",
    "            preds =  model(images).argmax(1)\n",
    "            total += labels.size(0)\n",
    "            correct += (preds == labels).sum().item()\n",
    "    val_acc = 100.0*(correct/total)\n",
    "\n",
    "    if val_acc > best_acc:\n",
    "        best_acc = val_acc\n",
    "        best_state = {k: v.cpu().clone() for k,v in model.state_dict().items()}\n",
    "\n",
    "    print(f\"Epoch {epoch+1}/{num_epochs} | loss {running_loss/len(train_ds):.4f} | val {val_acc:.2f}%\")\n",
    "\n",
    "# load the current best model as a checkpoint\n",
    "# saves only the best model for submission\n",
    "\n",
    "if best_state:\n",
    "    model.load_state_dict(best_state)\n",
    "    model.to(device)"
   ]
  },
  {
   "cell_type": "code",
   "execution_count": 8,
   "id": "86e1b009",
   "metadata": {
    "execution": {
     "iopub.execute_input": "2025-08-13T16:58:25.070975Z",
     "iopub.status.busy": "2025-08-13T16:58:25.070327Z",
     "iopub.status.idle": "2025-08-13T16:58:25.623435Z",
     "shell.execute_reply": "2025-08-13T16:58:25.622409Z"
    },
    "papermill": {
     "duration": 0.56049,
     "end_time": "2025-08-13T16:58:25.625008",
     "exception": false,
     "start_time": "2025-08-13T16:58:25.064518",
     "status": "completed"
    },
    "tags": []
   },
   "outputs": [
    {
     "name": "stdout",
     "output_type": "stream",
     "text": [
      "Validation accuracy: 98.10%\n"
     ]
    }
   ],
   "source": [
    "model.eval()\n",
    "correct = 0\n",
    "total = 0\n",
    "with torch.no_grad():\n",
    "    for batch in val_loader:\n",
    "        # handle 2- or 3-tuple batches robustly\n",
    "        if isinstance(batch, (list, tuple)):\n",
    "            images, labels = batch[0], batch[1]\n",
    "        else:\n",
    "            raise RuntimeError(\"Unexpected batch type; expected tuple/list\")\n",
    "\n",
    "        images = images.reshape(-1, 28*28).to(device)\n",
    "        labels = labels.to(device)\n",
    "\n",
    "        outputs = model(images)\n",
    "        preds = outputs.argmax(dim=1)\n",
    "        total += labels.size(0)\n",
    "        correct += (preds == labels).sum().item()\n",
    "\n",
    "print(f\"Validation accuracy: {100 * correct / total:.2f}%\")\n"
   ]
  },
  {
   "cell_type": "code",
   "execution_count": 9,
   "id": "891ce01b",
   "metadata": {
    "execution": {
     "iopub.execute_input": "2025-08-13T16:58:25.637019Z",
     "iopub.status.busy": "2025-08-13T16:58:25.636712Z",
     "iopub.status.idle": "2025-08-13T16:58:28.828609Z",
     "shell.execute_reply": "2025-08-13T16:58:28.827900Z"
    },
    "papermill": {
     "duration": 3.199481,
     "end_time": "2025-08-13T16:58:28.830211",
     "exception": false,
     "start_time": "2025-08-13T16:58:25.630730",
     "status": "completed"
    },
    "tags": []
   },
   "outputs": [],
   "source": [
    "# Model Submission\n",
    "\n",
    "model.eval()\n",
    "predictions = []\n",
    "with torch.no_grad():\n",
    "    for images in test_loader:\n",
    "        images = images.reshape(-1,28*28).to(device)\n",
    "        outputs = model(images)\n",
    "        _, predicted = torch.max(outputs, 1)\n",
    "        predictions.extend(predicted.cpu().numpy())\n",
    "\n",
    "submission = pd.DataFrame({\n",
    "    \"ImageID\": range(1, len(predictions)+1),\n",
    "    \"Label\": predictions\n",
    "})\n",
    "\n",
    "submission.to_csv(\"submission.csv\", index=False)"
   ]
  }
 ],
 "metadata": {
  "kaggle": {
   "accelerator": "none",
   "dataSources": [
    {
     "databundleVersionId": 861823,
     "sourceId": 3004,
     "sourceType": "competition"
    }
   ],
   "dockerImageVersionId": 31089,
   "isGpuEnabled": false,
   "isInternetEnabled": false,
   "language": "python",
   "sourceType": "notebook"
  },
  "kernelspec": {
   "display_name": "Python 3",
   "language": "python",
   "name": "python3"
  },
  "language_info": {
   "codemirror_mode": {
    "name": "ipython",
    "version": 3
   },
   "file_extension": ".py",
   "mimetype": "text/x-python",
   "name": "python",
   "nbconvert_exporter": "python",
   "pygments_lexer": "ipython3",
   "version": "3.11.13"
  },
  "papermill": {
   "default_parameters": {},
   "duration": 344.904964,
   "end_time": "2025-08-13T16:58:30.557707",
   "environment_variables": {},
   "exception": null,
   "input_path": "__notebook__.ipynb",
   "output_path": "__notebook__.ipynb",
   "parameters": {},
   "start_time": "2025-08-13T16:52:45.652743",
   "version": "2.6.0"
  }
 },
 "nbformat": 4,
 "nbformat_minor": 5
}
