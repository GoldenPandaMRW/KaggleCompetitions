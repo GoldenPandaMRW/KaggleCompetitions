{
  "metadata": {
    "kernelspec": {
      "display_name": "Python 3",
      "name": "python3"
    },
    "language_info": {
      "name": "python",
      "version": "3.11.13",
      "mimetype": "text/x-python",
      "codemirror_mode": {
        "name": "ipython",
        "version": 3
      },
      "pygments_lexer": "ipython3",
      "nbconvert_exporter": "python",
      "file_extension": ".py"
    },
    "kaggle": {
      "accelerator": "none",
      "dataSources": [
        {
          "sourceId": 3004,
          "databundleVersionId": 861823,
          "sourceType": "competition"
        }
      ],
      "dockerImageVersionId": 31089,
      "isInternetEnabled": false,
      "language": "python",
      "sourceType": "notebook",
      "isGpuEnabled": false
    },
    "colab": {
      "provenance": [],
      "gpuType": "A100",
      "machine_shape": "hm",
      "include_colab_link": true
    },
    "accelerator": "GPU"
  },
  "nbformat_minor": 0,
  "nbformat": 4,
  "cells": [
    {
      "cell_type": "markdown",
      "metadata": {
        "id": "view-in-github",
        "colab_type": "text"
      },
      "source": [
        "<a href=\"https://colab.research.google.com/github/GoldenPandaMRW/KaggleCompetitions/blob/main/CNN_for_Digit_Recognition_Challenge.ipynb\" target=\"_parent\"><img src=\"https://colab.research.google.com/assets/colab-badge.svg\" alt=\"Open In Colab\"/></a>"
      ]
    },
    {
      "cell_type": "code",
      "source": [
        "import numpy as np\n",
        "import pandas as pd\n",
        "import torch # framework\n",
        "import torch.nn as nn # neural net framework\n",
        "import torchvision # dataset\n",
        "from torch.utils.data import Dataset, DataLoader\n",
        "import matplotlib.pyplot as plt # data visualization\n",
        "from torchvision import transforms\n",
        "\n",
        "import os\n",
        "for dirname, _, filenames in os.walk('/kaggle/input'):\n",
        "    for filename in filenames:\n",
        "        print(os.path.join(dirname, filename))"
      ],
      "metadata": {
        "trusted": true,
        "execution": {
          "iopub.status.busy": "2025-08-14T00:52:42.577067Z",
          "iopub.execute_input": "2025-08-14T00:52:42.578895Z",
          "iopub.status.idle": "2025-08-14T00:52:42.589761Z",
          "shell.execute_reply.started": "2025-08-14T00:52:42.578863Z",
          "shell.execute_reply": "2025-08-14T00:52:42.588512Z"
        },
        "id": "BoP3Qdv4F1Sk"
      },
      "outputs": [],
      "execution_count": 14
    },
    {
      "cell_type": "code",
      "source": [
        "# device config\n",
        "device = torch.device('cuda' if torch.cuda.is_available() else 'cpu')\n",
        "\n",
        "# hyperparamters = config of the model\n",
        "input_size = 784 # images are 28x28\n",
        "hidden_size = 100\n",
        "num_classes = 10 # 0-9 digits\n",
        "batch_size = 100"
      ],
      "metadata": {
        "trusted": true,
        "execution": {
          "iopub.status.busy": "2025-08-14T00:52:42.591287Z",
          "iopub.execute_input": "2025-08-14T00:52:42.591604Z",
          "iopub.status.idle": "2025-08-14T00:52:42.605585Z",
          "shell.execute_reply.started": "2025-08-14T00:52:42.591579Z",
          "shell.execute_reply": "2025-08-14T00:52:42.604726Z"
        },
        "id": "-ISty8QWF1Sl"
      },
      "outputs": [],
      "execution_count": 15
    },
    {
      "cell_type": "code",
      "source": [
        "class DigitRecogDataset(Dataset):\n",
        "    def __init__(self,csv_file,has_labels=True,transform=None):\n",
        "        self.data = pd.read_csv(csv_file)\n",
        "        self.has_labels = has_labels\n",
        "        self.transform = transform\n",
        "\n",
        "        if self.has_labels:\n",
        "            # The first column of train.csv has labels for data\n",
        "            self.labels = self.data.iloc[:,0].values\n",
        "            self.images = self.data.iloc[:,1:].values\n",
        "        else:\n",
        "            # The test.csv does not contain a label\n",
        "            self.images = self.data.values\n",
        "\n",
        "    def __len__(self):\n",
        "        return len(self.images)\n",
        "\n",
        "    def __getitem__(self,index):\n",
        "        image = self.images[index].reshape(28,28).astype('float32')/255.0\n",
        "        image = torch.tensor(image).unsqueeze(0) # (1,28,28)\n",
        "\n",
        "        if self.transform:\n",
        "            image = self.transform(image)\n",
        "\n",
        "        if self.has_labels:\n",
        "            label = torch.tensor(self.labels[index],dtype=torch.long)\n",
        "            return image, label\n",
        "        else:\n",
        "            return image\n",
        "\n",
        "import torchvision.transforms as transforms\n",
        "\n",
        "transform = transforms.Compose([\n",
        "    transforms.Normalize((0.5,), (0.5,))  # normalize pixel values\n",
        "])"
      ],
      "metadata": {
        "trusted": true,
        "execution": {
          "iopub.status.busy": "2025-08-14T00:52:42.606631Z",
          "iopub.execute_input": "2025-08-14T00:52:42.606904Z",
          "iopub.status.idle": "2025-08-14T00:52:42.622538Z",
          "shell.execute_reply.started": "2025-08-14T00:52:42.606881Z",
          "shell.execute_reply": "2025-08-14T00:52:42.621657Z"
        },
        "id": "ULwHwbsbF1Sl"
      },
      "outputs": [],
      "execution_count": 16
    },
    {
      "cell_type": "code",
      "source": [
        "# Dataset\n",
        "from torch.utils.data import random_split, DataLoader\n",
        "\n",
        "test_ds = DigitRecogDataset(\n",
        "    csv_file=\"/content/test.csv\",\n",
        "    has_labels=False,\n",
        "    transform=transform\n",
        ")\n",
        "train_ds = DigitRecogDataset(\n",
        "    csv_file=\"/content/train.csv\",\n",
        "    has_labels=True,\n",
        "    transform=transform\n",
        ")\n",
        "\n",
        "#split train_ds into a sperate validation set (val_ds)\n",
        "#currently set to [10%] to give more data for training\n",
        "val_frac = 0.1\n",
        "n_val = int(len(train_ds) * val_frac)\n",
        "n_train = len(train_ds) - n_val\n",
        "train_ds, val_ds = random_split(train_ds, [n_train, n_val])\n",
        "\n",
        "train_loader = DataLoader(train_ds, batch_size=batch_size, shuffle=True)\n",
        "val_loader = DataLoader(val_ds,   batch_size=batch_size, shuffle=False)\n",
        "test_loader = DataLoader(test_ds,batch_size=batch_size,shuffle=False)"
      ],
      "metadata": {
        "trusted": true,
        "execution": {
          "iopub.status.busy": "2025-08-14T00:52:42.623394Z",
          "iopub.execute_input": "2025-08-14T00:52:42.623689Z",
          "iopub.status.idle": "2025-08-14T00:52:46.446386Z",
          "shell.execute_reply.started": "2025-08-14T00:52:42.623668Z",
          "shell.execute_reply": "2025-08-14T00:52:46.445524Z"
        },
        "id": "P9mfYP1rF1Sm"
      },
      "outputs": [],
      "execution_count": 17
    },
    {
      "cell_type": "code",
      "source": [
        "# visualize\n",
        "examples = iter(train_loader)\n",
        "samples, labels = next(examples) # torch objects have the samples and labels atributes\n",
        "print(samples.shape, labels.shape)\n",
        "\n",
        "# torch.Size([100, 1, 28, 28]) torch.Size([100])\n",
        "# 100 samples, 1 channel of color, 28 width, 28 length\n",
        "# Each class label has one value\n",
        "\n",
        "for i in range(6):\n",
        "  plt.subplot(2,3,i+1)\n",
        "  plt.imshow(samples[i][0], cmap='gray')\n",
        "plt.show()"
      ],
      "metadata": {
        "trusted": true,
        "execution": {
          "iopub.status.busy": "2025-08-14T00:52:46.448575Z",
          "iopub.execute_input": "2025-08-14T00:52:46.448902Z",
          "iopub.status.idle": "2025-08-14T00:52:47.006888Z",
          "shell.execute_reply.started": "2025-08-14T00:52:46.448873Z",
          "shell.execute_reply": "2025-08-14T00:52:47.006027Z"
        },
        "colab": {
          "base_uri": "https://localhost:8080/",
          "height": 429
        },
        "id": "5HdxhCcyF1Sm",
        "outputId": "0c861f1a-660f-4895-9c4b-0e43cb8be943"
      },
      "outputs": [
        {
          "output_type": "stream",
          "name": "stdout",
          "text": [
            "torch.Size([100, 1, 28, 28]) torch.Size([100])\n"
          ]
        },
        {
          "output_type": "display_data",
          "data": {
            "text/plain": [
              "<Figure size 640x480 with 6 Axes>"
            ],
            "image/png": "[encoded data removed]"
          },
          "metadata": {}
        }
      ],
      "execution_count": 18
    },
    {
      "cell_type": "code",
      "source": [
        "class MiniCNN(nn.Module):\n",
        "    def __init__(self, num_classes=10):\n",
        "        super().__init__()\n",
        "        self.features = nn.Sequential(\n",
        "            # 1st convolution\n",
        "\n",
        "            nn.Conv2d(1, 32, 3, padding=1),\n",
        "            nn.BatchNorm2d(32),\n",
        "            nn.ReLU(inplace=True),\n",
        "            # nn.ReLU(inplace=True) overwrites input tensor with ReLU() instead\n",
        "            # of creating a new tensor and using more memory\n",
        "\n",
        "            # 2nd convolution + MaxPool\n",
        "            nn.Conv2d(32, 64, 3, padding=1),\n",
        "            nn.BatchNorm2d(64),\n",
        "            nn.ReLU(inplace=True),\n",
        "            nn.MaxPool2d(2), # pooling causes 28x28 --> 14x14\n",
        "            nn.Dropout(0.10),\n",
        "\n",
        "            # 3rd convolution\n",
        "            nn.Conv2d(64,128,3, padding=1),\n",
        "            nn.BatchNorm2d(128),\n",
        "            nn.ReLU(inplace=True),\n",
        "\n",
        "            #4th convolution\n",
        "            nn.Conv2d(128, 128, 3, padding=1),\n",
        "            nn.BatchNorm2d(128),\n",
        "            nn.ReLU(inplace=True),\n",
        "            nn.MaxPool2d(2), # pooling causes 14x14 --> 7x7\n",
        "            nn.Dropout(0.10),\n",
        "        )\n",
        "\n",
        "        # Global Average Pooling\n",
        "        self.classifier = nn.Sequential(\n",
        "            nn.AdaptiveAvgPool2d(1), # [B, 128, 1, 1]\n",
        "            nn.Flatten(), # [B, 128]\n",
        "            nn.Linear(128, num_classes)\n",
        "        )\n",
        "\n",
        "        # Kaiming Init (Kaiming uniform distribution):\n",
        "        # helps establish starting weights to prevent vanishing or blowup\n",
        "        # of gradients and signals in backpropagation and forward propagation\n",
        "        # respectively (prevent RNG from ruining model training)\n",
        "        for m in self.modules():\n",
        "            if isinstance(m, nn.Conv2d):\n",
        "                nn.init.kaiming_normal_(m.weight, nonlinearity=\"relu\")\n",
        "                nn.init.zeros_(m.bias)\n",
        "            if isinstance(m, nn.Linear):\n",
        "                nn.init.kaiming_normal_(m.weight, nonlinearity=\"relu\")\n",
        "                nn.init.zeros_(m.bias)\n",
        "\n",
        "    def forward(self,x):\n",
        "        x = self.features(x)\n",
        "        x = self.classifier(x)\n",
        "        return(x)\n",
        "\n",
        "model = MiniCNN(num_classes=10)\n"
      ],
      "metadata": {
        "trusted": true,
        "execution": {
          "iopub.status.busy": "2025-08-14T00:52:47.007827Z",
          "iopub.execute_input": "2025-08-14T00:52:47.008168Z",
          "iopub.status.idle": "2025-08-14T00:52:47.025705Z",
          "shell.execute_reply.started": "2025-08-14T00:52:47.008139Z",
          "shell.execute_reply": "2025-08-14T00:52:47.024778Z"
        },
        "id": "sWDRX9fwF1Sn"
      },
      "outputs": [],
      "execution_count": 19
    },
    {
      "cell_type": "code",
      "source": [
        "# Training Loop\n",
        "from torch.optim import AdamW\n",
        "from torch.optim.lr_scheduler import OneCycleLR\n",
        "\n",
        "learning_rate = 1e-3\n",
        "num_epochs = 30\n",
        "n_steps = len(train_loader)\n",
        "\n",
        "best_acc = 0.0\n",
        "best_state = None\n",
        "\n",
        "# Loss and Optimizer\n",
        "criterion = nn.CrossEntropyLoss(label_smoothing=0.1) # applies softmax automatically\n",
        "optimizer = AdamW(model.parameters(), lr = learning_rate, weight_decay = 1e-4)\n",
        "model.to(device)\n",
        "\n",
        "# Learning Rate Scheduler\n",
        "scheduler = OneCycleLR(\n",
        "    optimizer,\n",
        "    max_lr=learning_rate,\n",
        "    epochs=num_epochs,\n",
        "    steps_per_epoch=n_steps,\n",
        "    pct_start=0.2, # warmup\n",
        "    anneal_strategy='cos'\n",
        ")\n",
        "\n",
        "for epoch in range(num_epochs):\n",
        "    model.train()\n",
        "    running_loss = 0.0\n",
        "\n",
        "    for images, labels in train_loader:\n",
        "        # labels enter as [B,1,28,28]\n",
        "        images = images.to(device)\n",
        "        labels = labels.to(device)\n",
        "\n",
        "    # forward propagation\n",
        "        outputs = model(images)\n",
        "        loss = criterion(outputs, labels) # predicted, actual\n",
        "\n",
        "    # backward propagation\n",
        "        optimizer.zero_grad() # empty gradients\n",
        "        loss.backward() # backpropagation\n",
        "\n",
        "    # gradient cliping (prevents exploding gradients)\n",
        "        torch.nn.utils.clip_grad_norm_(model.parameters(),max_norm=1.0)\n",
        "\n",
        "    # step\n",
        "        optimizer.step()\n",
        "        scheduler.step()\n",
        "\n",
        "        running_loss += loss.item()*labels.size(0)\n",
        "\n",
        "    model.eval()\n",
        "    correct = total = 0\n",
        "    with torch.no_grad():\n",
        "        for images, labels in val_loader:\n",
        "            images = images.to(device)\n",
        "            labels = labels.to(device)\n",
        "            preds =  model(images).argmax(1)\n",
        "            total += labels.size(0)\n",
        "            correct += (preds == labels).sum().item()\n",
        "    val_acc = 100.0*(correct/total)\n",
        "\n",
        "    if val_acc > best_acc:\n",
        "        best_acc = val_acc\n",
        "        best_state = {k: v.cpu().clone() for k,v in model.state_dict().items()}\n",
        "\n",
        "    print(f\"Epoch {epoch+1}/{num_epochs} | loss {running_loss/len(train_ds):.4f} | val {val_acc:.2f}%\")\n",
        "\n",
        "# load the current best model as a checkpoint\n",
        "# saves only the best model for submission\n",
        "\n",
        "if best_state:\n",
        "    model.load_state_dict(best_state)\n",
        "    model.to(device)"
      ],
      "metadata": {
        "trusted": true,
        "execution": {
          "iopub.status.busy": "2025-08-14T00:52:47.026741Z",
          "iopub.execute_input": "2025-08-14T00:52:47.027048Z",
          "execution_failed": "2025-08-14T00:59:46.914Z"
        },
        "colab": {
          "base_uri": "https://localhost:8080/"
        },
        "id": "GOyKMGfKF1So",
        "outputId": "045c548a-b576-48cd-d3e1-490c56b94d50"
      },
      "outputs": [
        {
          "output_type": "stream",
          "name": "stdout",
          "text": [
            "Epoch 1/30 | loss 1.6668 | val 82.10%\n",
            "Epoch 2/30 | loss 0.8732 | val 95.98%\n",
            "Epoch 3/30 | loss 0.6742 | val 97.02%\n",
            "Epoch 4/30 | loss 0.6261 | val 98.10%\n",
            "Epoch 5/30 | loss 0.6001 | val 97.26%\n",
            "Epoch 6/30 | loss 0.5859 | val 97.95%\n",
            "Epoch 7/30 | loss 0.5761 | val 98.52%\n",
            "Epoch 8/30 | loss 0.5683 | val 98.83%\n",
            "Epoch 9/30 | loss 0.5633 | val 98.02%\n",
            "Epoch 10/30 | loss 0.5579 | val 98.10%\n",
            "Epoch 11/30 | loss 0.5545 | val 98.93%\n",
            "Epoch 12/30 | loss 0.5510 | val 99.14%\n",
            "Epoch 13/30 | loss 0.5483 | val 98.98%\n",
            "Epoch 14/30 | loss 0.5464 | val 99.10%\n",
            "Epoch 15/30 | loss 0.5427 | val 99.26%\n",
            "Epoch 16/30 | loss 0.5412 | val 99.19%\n",
            "Epoch 17/30 | loss 0.5386 | val 99.14%\n",
            "Epoch 18/30 | loss 0.5364 | val 99.19%\n",
            "Epoch 19/30 | loss 0.5351 | val 99.38%\n",
            "Epoch 20/30 | loss 0.5333 | val 99.36%\n",
            "Epoch 21/30 | loss 0.5321 | val 99.29%\n",
            "Epoch 22/30 | loss 0.5309 | val 99.31%\n",
            "Epoch 23/30 | loss 0.5297 | val 99.29%\n",
            "Epoch 24/30 | loss 0.5287 | val 99.38%\n",
            "Epoch 25/30 | loss 0.5277 | val 99.24%\n",
            "Epoch 26/30 | loss 0.5270 | val 99.36%\n",
            "Epoch 27/30 | loss 0.5264 | val 99.33%\n",
            "Epoch 28/30 | loss 0.5261 | val 99.31%\n",
            "Epoch 29/30 | loss 0.5257 | val 99.33%\n",
            "Epoch 30/30 | loss 0.5255 | val 99.33%\n"
          ]
        }
      ],
      "execution_count": 20
    },
    {
      "cell_type": "code",
      "source": [
        "model.eval()\n",
        "correct = 0\n",
        "total = 0\n",
        "with torch.no_grad():\n",
        "    for batch in val_loader:\n",
        "        images = images.to(device)\n",
        "        labels = labels.to(device)\n",
        "\n",
        "        outputs = model(images)\n",
        "        preds = outputs.argmax(dim=1)\n",
        "        total += labels.size(0)\n",
        "        correct += (preds == labels).sum().item()\n",
        "\n",
        "print(f\"Validation accuracy: {100 * correct / total:.2f}%\")\n"
      ],
      "metadata": {
        "trusted": true,
        "execution": {
          "execution_failed": "2025-08-14T00:59:46.914Z"
        },
        "colab": {
          "base_uri": "https://localhost:8080/"
        },
        "id": "E9BLOsvBF1So",
        "outputId": "7ccd7c22-2e1f-4a89-842d-0197fe4358e5"
      },
      "outputs": [
        {
          "output_type": "stream",
          "name": "stdout",
          "text": [
            "Validation accuracy: 98.00%\n"
          ]
        }
      ],
      "execution_count": 21
    },
    {
      "cell_type": "code",
      "source": [
        "# Model Submission\n",
        "\n",
        "model.eval()\n",
        "predictions = []\n",
        "with torch.no_grad():\n",
        "    for images in test_loader:\n",
        "        images = images.to(device)\n",
        "        outputs = model(images)\n",
        "        _, predicted = torch.max(outputs, 1)\n",
        "        predictions.extend(predicted.cpu().numpy())\n",
        "\n",
        "submission = pd.DataFrame({\n",
        "    \"ImageID\": range(1, len(predictions)+1),\n",
        "    \"Label\": predictions\n",
        "})\n",
        "\n",
        "submission.to_csv(\"submission.csv\", index=False)"
      ],
      "metadata": {
        "trusted": true,
        "execution": {
          "execution_failed": "2025-08-14T00:59:46.915Z"
        },
        "id": "mV7NVVj7F1Sp"
      },
      "outputs": [],
      "execution_count": 22
    }
  ]
}