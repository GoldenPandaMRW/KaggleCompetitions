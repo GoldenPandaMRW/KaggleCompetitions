{
  "metadata": {
    "kernelspec": {
      "display_name": "Python 3",
      "name": "python3"
    },
    "language_info": {
      "name": "python",
      "version": "3.11.13",
      "mimetype": "text/x-python",
      "codemirror_mode": {
        "name": "ipython",
        "version": 3
      },
      "pygments_lexer": "ipython3",
      "nbconvert_exporter": "python",
      "file_extension": ".py"
    },
    "kaggle": {
      "accelerator": "none",
      "dataSources": [
        {
          "sourceId": 3004,
          "databundleVersionId": 861823,
          "sourceType": "competition"
        }
      ],
      "dockerImageVersionId": 31089,
      "isInternetEnabled": false,
      "language": "python",
      "sourceType": "notebook",
      "isGpuEnabled": false
    },
    "colab": {
      "name": "CNN for Digit Recognition Challenge",
      "provenance": [],
      "gpuType": "T4",
      "include_colab_link": true
    },
    "accelerator": "GPU"
  },
  "nbformat_minor": 0,
  "nbformat": 4,
  "cells": [
    {
      "cell_type": "markdown",
      "metadata": {
        "id": "view-in-github",
        "colab_type": "text"
      },
      "source": [
        "<a href=\"https://colab.research.google.com/github/GoldenPandaMRW/KaggleCompetitions/blob/main/CNN_for_Digit_Recognition_Challenge.ipynb\" target=\"_parent\"><img src=\"https://colab.research.google.com/assets/colab-badge.svg\" alt=\"Open In Colab\"/></a>"
      ]
    },
    {
      "cell_type": "code",
      "source": [
        "import numpy as np\n",
        "import pandas as pd\n",
        "import torch # framework\n",
        "import torch.nn as nn # neural net framework\n",
        "import torchvision # dataset\n",
        "from torch.utils.data import Dataset, DataLoader\n",
        "import matplotlib.pyplot as plt # data visualization\n",
        "from torchvision import transforms\n",
        "\n",
        "import os\n",
        "for dirname, _, filenames in os.walk('/kaggle/input'):\n",
        "    for filename in filenames:\n",
        "        print(os.path.join(dirname, filename))"
      ],
      "metadata": {
        "trusted": true,
        "execution": {
          "iopub.status.busy": "2025-08-14T00:52:42.577067Z",
          "iopub.execute_input": "2025-08-14T00:52:42.578895Z",
          "iopub.status.idle": "2025-08-14T00:52:42.589761Z",
          "shell.execute_reply.started": "2025-08-14T00:52:42.578863Z",
          "shell.execute_reply": "2025-08-14T00:52:42.588512Z"
        },
        "id": "BoP3Qdv4F1Sk"
      },
      "outputs": [],
      "execution_count": 2
    },
    {
      "cell_type": "code",
      "source": [
        "# device config\n",
        "device = torch.device('cuda' if torch.cuda.is_available() else 'cpu')\n",
        "\n",
        "# hyperparamters = config of the model\n",
        "input_size = 784 # images are 28x28\n",
        "hidden_size = 100\n",
        "num_classes = 10 # 0-9 digits\n",
        "batch_size = 100"
      ],
      "metadata": {
        "trusted": true,
        "execution": {
          "iopub.status.busy": "2025-08-14T00:52:42.591287Z",
          "iopub.execute_input": "2025-08-14T00:52:42.591604Z",
          "iopub.status.idle": "2025-08-14T00:52:42.605585Z",
          "shell.execute_reply.started": "2025-08-14T00:52:42.591579Z",
          "shell.execute_reply": "2025-08-14T00:52:42.604726Z"
        },
        "id": "-ISty8QWF1Sl"
      },
      "outputs": [],
      "execution_count": 3
    },
    {
      "cell_type": "code",
      "source": [
        "class DigitRecogDataset(Dataset):\n",
        "    def __init__(self,csv_file,has_labels=True,transform=None):\n",
        "        self.data = pd.read_csv(csv_file)\n",
        "        self.has_labels = has_labels\n",
        "        self.transform = transform\n",
        "\n",
        "        if self.has_labels:\n",
        "            # The first column of train.csv has labels for data\n",
        "            self.labels = self.data.iloc[:,0].values\n",
        "            self.images = self.data.iloc[:,1:].values\n",
        "        else:\n",
        "            # The test.csv does not contain a label\n",
        "            self.images = self.data.values\n",
        "\n",
        "    def __len__(self):\n",
        "        return len(self.images)\n",
        "\n",
        "    def __getitem__(self,index):\n",
        "        image = self.images[index].reshape(28,28).astype('float32')/255.0\n",
        "        image = torch.tensor(image).unsqueeze(0) # (1,28,28)\n",
        "\n",
        "        if self.transform:\n",
        "            image = self.transform(image)\n",
        "\n",
        "        if self.has_labels:\n",
        "            label = torch.tensor(self.labels[index],dtype=torch.long)\n",
        "            return image, label\n",
        "        else:\n",
        "            return image\n",
        "\n",
        "import torchvision.transforms as transforms\n",
        "\n",
        "transform = transforms.Compose([\n",
        "    transforms.Normalize((0.5,), (0.5,))  # normalize pixel values\n",
        "])"
      ],
      "metadata": {
        "trusted": true,
        "execution": {
          "iopub.status.busy": "2025-08-14T00:52:42.606631Z",
          "iopub.execute_input": "2025-08-14T00:52:42.606904Z",
          "iopub.status.idle": "2025-08-14T00:52:42.622538Z",
          "shell.execute_reply.started": "2025-08-14T00:52:42.606881Z",
          "shell.execute_reply": "2025-08-14T00:52:42.621657Z"
        },
        "id": "ULwHwbsbF1Sl"
      },
      "outputs": [],
      "execution_count": 4
    },
    {
      "cell_type": "code",
      "source": [
        "# Dataset\n",
        "from torch.utils.data import random_split, DataLoader\n",
        "\n",
        "test_ds = DigitRecogDataset(\n",
        "    csv_file=\"/content/test.csv\",\n",
        "    has_labels=False,\n",
        "    transform=transform\n",
        ")\n",
        "train_ds = DigitRecogDataset(\n",
        "    csv_file=\"/content/train.csv\",\n",
        "    has_labels=True,\n",
        "    transform=transform\n",
        ")\n",
        "\n",
        "#split train_ds into a sperate validation set (val_ds)\n",
        "#currently set to [10%] to give more data for training\n",
        "val_frac = 0.1\n",
        "n_val = int(len(train_ds) * val_frac)\n",
        "n_train = len(train_ds) - n_val\n",
        "train_ds, val_ds = random_split(train_ds, [n_train, n_val])\n",
        "\n",
        "train_loader = DataLoader(train_ds, batch_size=batch_size, shuffle=True)\n",
        "val_loader = DataLoader(val_ds,   batch_size=batch_size, shuffle=False)\n",
        "test_loader = DataLoader(test_ds,batch_size=batch_size,shuffle=False)"
      ],
      "metadata": {
        "trusted": true,
        "execution": {
          "iopub.status.busy": "2025-08-14T00:52:42.623394Z",
          "iopub.execute_input": "2025-08-14T00:52:42.623689Z",
          "iopub.status.idle": "2025-08-14T00:52:46.446386Z",
          "shell.execute_reply.started": "2025-08-14T00:52:42.623668Z",
          "shell.execute_reply": "2025-08-14T00:52:46.445524Z"
        },
        "id": "P9mfYP1rF1Sm"
      },
      "outputs": [],
      "execution_count": 5
    },
    {
      "cell_type": "code",
      "source": [
        "# visualize\n",
        "examples = iter(train_loader)\n",
        "samples, labels = next(examples) # torch objects have the samples and labels atributes\n",
        "print(samples.shape, labels.shape)\n",
        "\n",
        "# torch.Size([100, 1, 28, 28]) torch.Size([100])\n",
        "# 100 samples, 1 channel of color, 28 width, 28 length\n",
        "# Each class label has one value\n",
        "\n",
        "for i in range(6):\n",
        "  plt.subplot(2,3,i+1)\n",
        "  plt.imshow(samples[i][0], cmap='gray')\n",
        "plt.show()"
      ],
      "metadata": {
        "trusted": true,
        "execution": {
          "iopub.status.busy": "2025-08-14T00:52:46.448575Z",
          "iopub.execute_input": "2025-08-14T00:52:46.448902Z",
          "iopub.status.idle": "2025-08-14T00:52:47.006888Z",
          "shell.execute_reply.started": "2025-08-14T00:52:46.448873Z",
          "shell.execute_reply": "2025-08-14T00:52:47.006027Z"
        },
        "id": "5HdxhCcyF1Sm",
        "outputId": "173e9220-63c9-4c14-a9d1-16bbad9ad3f6",
        "colab": {
          "base_uri": "https://localhost:8080/",
          "height": 429
        }
      },
      "outputs": [
        {
          "output_type": "stream",
          "name": "stdout",
          "text": [
            "torch.Size([100, 1, 28, 28]) torch.Size([100])\n"
          ]
        },
        {
          "output_type": "display_data",
          "data": {
            "text/plain": [
              "<Figure size 640x480 with 6 Axes>"
            ],
            "image/png": "[encoded data removed]"
          },
          "metadata": {}
        }
      ],
      "execution_count": 6
    },
    {
      "cell_type": "code",
      "source": [
        "class MiniCNN(nn.Module):\n",
        "    def __init__(self, num_classes=10):\n",
        "        super().__init__()\n",
        "        self.features = nn.Sequential(\n",
        "            # 1st convolution\n",
        "\n",
        "            nn.Conv2d(1, 32, 3, padding=1),\n",
        "            nn.BatchNorm2d(32),\n",
        "            nn.ReLU(inplace=True),\n",
        "            # nn.ReLU(inplace=True) overwrites input tensor with ReLU() instead\n",
        "            # of creating a new tensor and using more memory\n",
        "\n",
        "            # 2nd convolution + MaxPool\n",
        "            nn.Conv2d(32, 64, 3, padding=1),\n",
        "            nn.BatchNorm2d(64),\n",
        "            nn.ReLU(inplace=True),\n",
        "            nn.MaxPool2d(2), # pooling causes 28x28 --> 14x14\n",
        "            nn.Dropout(0.10),\n",
        "\n",
        "            # 3rd convolution\n",
        "            nn.Conv2d(64,128,3, padding=1),\n",
        "            nn.BatchNorm2d(128),\n",
        "            nn.ReLU(inplace=True),\n",
        "\n",
        "            #4th convolution\n",
        "            nn.Conv2d(128, 128, 3, padding=1),\n",
        "            nn.BatchNorm2d(128),\n",
        "            nn.ReLU(inplace=True),\n",
        "            nn.MaxPool2d(2), # pooling causes 14x14 --> 7x7\n",
        "            nn.Dropout(0.10),\n",
        "        )\n",
        "\n",
        "        # Global Average Pooling\n",
        "        self.classifier = nn.Sequential(\n",
        "            nn.AdaptiveAvgPool2d(1), # [B, 128, 1, 1]\n",
        "            nn.Flatten(), # [B, 128]\n",
        "            nn.Linear(128, num_classes)\n",
        "        )\n",
        "\n",
        "        # Kaiming Init (Kaiming uniform distribution):\n",
        "        # helps establish starting weights to prevent vanishing or blowup\n",
        "        # of gradients and signals in backpropagation and forward propagation\n",
        "        # respectively (prevent RNG from ruining model training)\n",
        "        for m in self.modules():\n",
        "            if isinstance(m, nn.Conv2d):\n",
        "                nn.init.kaiming_normal_(m.weight, nonlinearity=\"relu\")\n",
        "                nn.init.zeros_(m.bias)\n",
        "            if isinstance(m, nn.Linear):\n",
        "                nn.init.kaiming_normal_(m.weight, nonlinearity=\"relu\")\n",
        "                nn.init.zeros_(m.bias)\n",
        "\n",
        "    def forward(self,x):\n",
        "        x = self.features(x)\n",
        "        x = self.classifier(x)\n",
        "        return(x)\n",
        "\n",
        "model = MiniCNN(num_classes=10)\n",
        ""
      ],
      "metadata": {
        "trusted": true,
        "execution": {
          "iopub.status.busy": "2025-08-14T00:52:47.007827Z",
          "iopub.execute_input": "2025-08-14T00:52:47.008168Z",
          "iopub.status.idle": "2025-08-14T00:52:47.025705Z",
          "shell.execute_reply.started": "2025-08-14T00:52:47.008139Z",
          "shell.execute_reply": "2025-08-14T00:52:47.024778Z"
        },
        "id": "sWDRX9fwF1Sn"
      },
      "outputs": [],
      "execution_count": 7
    },
    {
      "cell_type": "code",
      "source": [
        "# Training Loop\n",
        "from torch.optim import AdamW\n",
        "from torch.optim.lr_scheduler import OneCycleLR\n",
        "\n",
        "learning_rate = 1e-3\n",
        "num_epochs = 50\n",
        "n_steps = len(train_loader)\n",
        "\n",
        "best_acc = 0.0\n",
        "best_state = None\n",
        "\n",
        "# Loss and Optimizer\n",
        "criterion = nn.CrossEntropyLoss(label_smoothing=0.1) # applies softmax automatically\n",
        "optimizer = AdamW(model.parameters(), lr = learning_rate, weight_decay = 1e-4)\n",
        "model.to(device)\n",
        "\n",
        "# Learning Rate Scheduler\n",
        "scheduler = OneCycleLR(\n",
        "    optimizer,\n",
        "    max_lr=learning_rate,\n",
        "    epochs=num_epochs,\n",
        "    steps_per_epoch=n_steps,\n",
        "    pct_start=0.2, # warmup\n",
        "    anneal_strategy='cos'\n",
        ")\n",
        "\n",
        "for epoch in range(num_epochs):\n",
        "    model.train()\n",
        "    running_loss = 0.0\n",
        "\n",
        "    for images, labels in train_loader:\n",
        "        # labels enter as [B,1,28,28]\n",
        "        images = images.to(device)\n",
        "        labels = labels.to(device)\n",
        "\n",
        "    # forward propagation\n",
        "        outputs = model(images)\n",
        "        loss = criterion(outputs, labels) # predicted, actual\n",
        "\n",
        "    # backward propagation\n",
        "        optimizer.zero_grad() # empty gradients\n",
        "        loss.backward() # backpropagation\n",
        "\n",
        "    # gradient cliping (prevents exploding gradients)\n",
        "        torch.nn.utils.clip_grad_norm_(model.parameters(),max_norm=1.0)\n",
        "\n",
        "    # step\n",
        "        optimizer.step()\n",
        "        scheduler.step()\n",
        "\n",
        "        running_loss += loss.item()*labels.size(0)\n",
        "\n",
        "    model.eval()\n",
        "    correct = total = 0\n",
        "    with torch.no_grad():\n",
        "        for images, labels in val_loader:\n",
        "            images = images.to(device)\n",
        "            labels = labels.to(device)\n",
        "            preds =  model(images).argmax(1)\n",
        "            total += labels.size(0)\n",
        "            correct += (preds == labels).sum().item()\n",
        "    val_acc = 100.0*(correct/total)\n",
        "\n",
        "    if val_acc > best_acc:\n",
        "        best_acc = val_acc\n",
        "        best_state = {k: v.cpu().clone() for k,v in model.state_dict().items()}\n",
        "\n",
        "    print(f\"Epoch {epoch+1}/{num_epochs} | loss {running_loss/len(train_ds):.4f} | val {val_acc:.2f}%\")\n",
        "\n",
        "# load the current best model as a checkpoint\n",
        "# saves only the best model for submission\n",
        "\n",
        "if best_state:\n",
        "    model.load_state_dict(best_state)\n",
        "    model.to(device)"
      ],
      "metadata": {
        "trusted": true,
        "execution": {
          "iopub.status.busy": "2025-08-14T00:52:47.026741Z",
          "iopub.execute_input": "2025-08-14T00:52:47.027048Z",
          "execution_failed": "2025-08-14T00:59:46.914Z"
        },
        "id": "GOyKMGfKF1So",
        "outputId": "16c2cb74-c47f-49c3-c902-c4f5fea4da04",
        "colab": {
          "base_uri": "https://localhost:8080/"
        }
      },
      "outputs": [
        {
          "output_type": "stream",
          "name": "stdout",
          "text": [
            "Epoch 1/50 | loss 1.7004 | val 85.10%\n",
            "Epoch 2/50 | loss 1.0153 | val 93.71%\n",
            "Epoch 3/50 | loss 0.7367 | val 96.86%\n",
            "Epoch 4/50 | loss 0.6567 | val 97.36%\n",
            "Epoch 5/50 | loss 0.6217 | val 96.83%\n",
            "Epoch 6/50 | loss 0.6023 | val 98.10%\n",
            "Epoch 7/50 | loss 0.5896 | val 98.74%\n",
            "Epoch 8/50 | loss 0.5799 | val 98.55%\n",
            "Epoch 9/50 | loss 0.5733 | val 98.88%\n",
            "Epoch 10/50 | loss 0.5672 | val 99.12%\n",
            "Epoch 11/50 | loss 0.5623 | val 98.93%\n",
            "Epoch 12/50 | loss 0.5579 | val 99.02%\n",
            "Epoch 13/50 | loss 0.5541 | val 98.88%\n",
            "Epoch 14/50 | loss 0.5518 | val 98.90%\n",
            "Epoch 15/50 | loss 0.5482 | val 98.95%\n",
            "Epoch 16/50 | loss 0.5463 | val 99.17%\n",
            "Epoch 17/50 | loss 0.5443 | val 99.21%\n",
            "Epoch 18/50 | loss 0.5415 | val 99.12%\n",
            "Epoch 19/50 | loss 0.5395 | val 99.29%\n",
            "Epoch 20/50 | loss 0.5384 | val 99.31%\n",
            "Epoch 21/50 | loss 0.5361 | val 99.45%\n",
            "Epoch 22/50 | loss 0.5351 | val 99.38%\n",
            "Epoch 23/50 | loss 0.5335 | val 99.36%\n",
            "Epoch 24/50 | loss 0.5324 | val 99.40%\n",
            "Epoch 25/50 | loss 0.5308 | val 99.40%\n",
            "Epoch 26/50 | loss 0.5298 | val 99.36%\n",
            "Epoch 27/50 | loss 0.5291 | val 99.48%\n",
            "Epoch 28/50 | loss 0.5276 | val 99.40%\n",
            "Epoch 29/50 | loss 0.5267 | val 99.31%\n",
            "Epoch 30/50 | loss 0.5257 | val 99.48%\n",
            "Epoch 31/50 | loss 0.5247 | val 99.40%\n",
            "Epoch 32/50 | loss 0.5241 | val 99.48%\n",
            "Epoch 33/50 | loss 0.5232 | val 99.40%\n",
            "Epoch 34/50 | loss 0.5228 | val 99.45%\n",
            "Epoch 35/50 | loss 0.5221 | val 99.50%\n",
            "Epoch 36/50 | loss 0.5215 | val 99.48%\n",
            "Epoch 37/50 | loss 0.5209 | val 99.48%\n",
            "Epoch 38/50 | loss 0.5204 | val 99.45%\n",
            "Epoch 39/50 | loss 0.5201 | val 99.40%\n",
            "Epoch 40/50 | loss 0.5196 | val 99.45%\n",
            "Epoch 41/50 | loss 0.5192 | val 99.43%\n",
            "Epoch 42/50 | loss 0.5190 | val 99.43%\n",
            "Epoch 43/50 | loss 0.5185 | val 99.45%\n",
            "Epoch 44/50 | loss 0.5184 | val 99.45%\n",
            "Epoch 45/50 | loss 0.5181 | val 99.45%\n",
            "Epoch 46/50 | loss 0.5181 | val 99.40%\n",
            "Epoch 47/50 | loss 0.5180 | val 99.50%\n",
            "Epoch 48/50 | loss 0.5179 | val 99.43%\n",
            "Epoch 49/50 | loss 0.5178 | val 99.45%\n",
            "Epoch 50/50 | loss 0.5178 | val 99.45%\n"
          ]
        }
      ],
      "execution_count": 8
    },
    {
      "cell_type": "code",
      "source": [
        "model.eval()\n",
        "correct = 0\n",
        "total = 0\n",
        "with torch.no_grad():\n",
        "    for batch in val_loader:\n",
        "        images = images.to(device)\n",
        "        labels = labels.to(device)\n",
        "\n",
        "        outputs = model(images)\n",
        "        preds = outputs.argmax(dim=1)\n",
        "        total += labels.size(0)\n",
        "        correct += (preds == labels).sum().item()\n",
        "\n",
        "print(f\"Validation accuracy: {100 * correct / total:.2f}%\")\n"
      ],
      "metadata": {
        "trusted": true,
        "execution": {
          "execution_failed": "2025-08-14T00:59:46.914Z"
        },
        "id": "E9BLOsvBF1So",
        "outputId": "5f49255b-c85b-4f08-9b0f-ca825d3a5fa3",
        "colab": {
          "base_uri": "https://localhost:8080/"
        }
      },
      "outputs": [
        {
          "output_type": "stream",
          "name": "stdout",
          "text": [
            "Validation accuracy: 100.00%\n"
          ]
        }
      ],
      "execution_count": 9
    },
    {
      "cell_type": "code",
      "source": [
        "# Model Submission\n",
        "\n",
        "model.eval()\n",
        "predictions = []\n",
        "with torch.no_grad():\n",
        "    for images in test_loader:\n",
        "        images = images.to(device)\n",
        "        outputs = model(images)\n",
        "        _, predicted = torch.max(outputs, 1)\n",
        "        predictions.extend(predicted.cpu().numpy())\n",
        "\n",
        "submission = pd.DataFrame({\n",
        "    \"ImageID\": range(1, len(predictions)+1),\n",
        "    \"Label\": predictions\n",
        "})\n",
        "\n",
        "submission.to_csv(\"submission.csv\", index=False)"
      ],
      "metadata": {
        "trusted": true,
        "execution": {
          "execution_failed": "2025-08-14T00:59:46.915Z"
        },
        "id": "mV7NVVj7F1Sp"
      },
      "outputs": [],
      "execution_count": 10
    }
  ]
}